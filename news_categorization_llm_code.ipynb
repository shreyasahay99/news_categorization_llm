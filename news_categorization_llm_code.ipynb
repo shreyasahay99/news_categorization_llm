{
  "nbformat": 4,
  "nbformat_minor": 0,
  "metadata": {
    "colab": {
      "provenance": []
    },
    "kernelspec": {
      "name": "python3",
      "display_name": "Python 3"
    },
    "language_info": {
      "name": "python"
    }
  },
  "cells": [
    {
      "cell_type": "code",
      "execution_count": null,
      "metadata": {
        "id": "s8Vs9gBJh6zz",
        "colab": {
          "base_uri": "https://localhost:8080/"
        },
        "outputId": "002d7fda-0200-4fae-fff5-abc43e7afc5f"
      },
      "outputs": [
        {
          "output_type": "stream",
          "name": "stdout",
          "text": [
            "                                                link  \\\n",
            "0  https://www.huffingtonpost.com/entry/how-to-ma...   \n",
            "1  https://www.huffingtonpost.com/entry/uber-ad-n...   \n",
            "2  https://www.huffingtonpost.com/entry/the-progr...   \n",
            "3  https://www.huffingtonpost.com/entry/dont-let-...   \n",
            "4  https://www.huffingtonpost.com/entry/what-you-...   \n",
            "\n",
            "                                            headline  category  \\\n",
            "0                  How to Manage Your Personal Brand  BUSINESS   \n",
            "1  It Looks Like Uber's Winning Its War With New ...  BUSINESS   \n",
            "2      The Progressive Promise of Today's Technology  BUSINESS   \n",
            "3   Don't Let These 5 Confusing Words Mar Your Image  BUSINESS   \n",
            "4        What You Don't Know About Overnight Success  BUSINESS   \n",
            "\n",
            "                                   short_description  \\\n",
            "0  Make no mistake: If you have a Facebook accoun...   \n",
            "1                                  Grab the popcorn.   \n",
            "2  A digital policy for the new century, tailored...   \n",
            "3  Tom's an articulate physician, totally able to...   \n",
            "4  I've been fighting this thing for 32 years. \"O...   \n",
            "\n",
            "                                             authors        date  \n",
            "0                         Kevin O'Leary, Contributor  2015-04-20  \n",
            "1                               Alexander C. Kaufman  2015-07-22  \n",
            "2      Andrei Cherny, ContributorCEO, Aspiration.com  2015-04-04  \n",
            "3  Dianna Booher, ContributorCEO, BooherResearch....  2015-04-02  \n",
            "4  Grant Cardone, ContributorNew York Times bests...  2015-06-23  \n"
          ]
        }
      ],
      "source": [
        "import pandas as pd\n",
        "\n",
        "# URL of the raw CSV file\n",
        "url = \"https://raw.githubusercontent.com/shreyasahay99/news_categorization_llm/main/sampled_news_data.csv\"\n",
        "\n",
        "# Read the CSV file\n",
        "df = pd.read_csv(url)\n",
        "\n",
        "# Display the first few rows\n",
        "print(df.head())\n"
      ]
    },
    {
      "cell_type": "code",
      "source": [
        "df[\"category\"].value_counts()"
      ],
      "metadata": {
        "colab": {
          "base_uri": "https://localhost:8080/",
          "height": 460
        },
        "id": "LzXhSrMEFvC7",
        "outputId": "21f4a53d-4777-4465-ffef-f5bf023baf04"
      },
      "execution_count": null,
      "outputs": [
        {
          "output_type": "execute_result",
          "data": {
            "text/plain": [
              "category\n",
              "BUSINESS          2000\n",
              "CRIME             2000\n",
              "ENTERTAINMENT     2000\n",
              "POLITICS          2000\n",
              "SCIENCE           2000\n",
              "SPORTS            2000\n",
              "STYLE & BEAUTY    2000\n",
              "TECH              2000\n",
              "TRAVEL            2000\n",
              "WELLNESS          2000\n",
              "WORLD NEWS        2000\n",
              "Name: count, dtype: int64"
            ],
            "text/html": [
              "<div>\n",
              "<style scoped>\n",
              "    .dataframe tbody tr th:only-of-type {\n",
              "        vertical-align: middle;\n",
              "    }\n",
              "\n",
              "    .dataframe tbody tr th {\n",
              "        vertical-align: top;\n",
              "    }\n",
              "\n",
              "    .dataframe thead th {\n",
              "        text-align: right;\n",
              "    }\n",
              "</style>\n",
              "<table border=\"1\" class=\"dataframe\">\n",
              "  <thead>\n",
              "    <tr style=\"text-align: right;\">\n",
              "      <th></th>\n",
              "      <th>count</th>\n",
              "    </tr>\n",
              "    <tr>\n",
              "      <th>category</th>\n",
              "      <th></th>\n",
              "    </tr>\n",
              "  </thead>\n",
              "  <tbody>\n",
              "    <tr>\n",
              "      <th>BUSINESS</th>\n",
              "      <td>2000</td>\n",
              "    </tr>\n",
              "    <tr>\n",
              "      <th>CRIME</th>\n",
              "      <td>2000</td>\n",
              "    </tr>\n",
              "    <tr>\n",
              "      <th>ENTERTAINMENT</th>\n",
              "      <td>2000</td>\n",
              "    </tr>\n",
              "    <tr>\n",
              "      <th>POLITICS</th>\n",
              "      <td>2000</td>\n",
              "    </tr>\n",
              "    <tr>\n",
              "      <th>SCIENCE</th>\n",
              "      <td>2000</td>\n",
              "    </tr>\n",
              "    <tr>\n",
              "      <th>SPORTS</th>\n",
              "      <td>2000</td>\n",
              "    </tr>\n",
              "    <tr>\n",
              "      <th>STYLE &amp; BEAUTY</th>\n",
              "      <td>2000</td>\n",
              "    </tr>\n",
              "    <tr>\n",
              "      <th>TECH</th>\n",
              "      <td>2000</td>\n",
              "    </tr>\n",
              "    <tr>\n",
              "      <th>TRAVEL</th>\n",
              "      <td>2000</td>\n",
              "    </tr>\n",
              "    <tr>\n",
              "      <th>WELLNESS</th>\n",
              "      <td>2000</td>\n",
              "    </tr>\n",
              "    <tr>\n",
              "      <th>WORLD NEWS</th>\n",
              "      <td>2000</td>\n",
              "    </tr>\n",
              "  </tbody>\n",
              "</table>\n",
              "</div><br><label><b>dtype:</b> int64</label>"
            ]
          },
          "metadata": {},
          "execution_count": 46
        }
      ]
    },
    {
      "cell_type": "code",
      "source": [
        "df.columns"
      ],
      "metadata": {
        "colab": {
          "base_uri": "https://localhost:8080/"
        },
        "id": "HZ3BhNVZHHpe",
        "outputId": "5982a6d9-7790-4d5c-fc43-b10e4be3e8a1"
      },
      "execution_count": null,
      "outputs": [
        {
          "output_type": "execute_result",
          "data": {
            "text/plain": [
              "Index(['link', 'headline', 'category', 'short_description', 'authors', 'date'], dtype='object')"
            ]
          },
          "metadata": {},
          "execution_count": 47
        }
      ]
    },
    {
      "cell_type": "code",
      "source": [
        "df.drop(columns=[\"link\", \"authors\", \"date\"], inplace=True)"
      ],
      "metadata": {
        "id": "UIz4htfkn875"
      },
      "execution_count": null,
      "outputs": []
    },
    {
      "cell_type": "code",
      "source": [
        "df_cat = df['category'].value_counts().reset_index()\n",
        "\n",
        "# Rename the columns for clarity\n",
        "df_cat.columns = ['category', 'count']\n",
        "\n",
        "# Show the resulting DataFrame\n",
        "print(df_cat)\n"
      ],
      "metadata": {
        "colab": {
          "base_uri": "https://localhost:8080/"
        },
        "id": "3phH7CD9o8SJ",
        "outputId": "7c52c247-7b73-4e2c-90a0-b924eff05cd0"
      },
      "execution_count": null,
      "outputs": [
        {
          "output_type": "stream",
          "name": "stdout",
          "text": [
            "          category  count\n",
            "0         BUSINESS   2000\n",
            "1            CRIME   2000\n",
            "2    ENTERTAINMENT   2000\n",
            "3         POLITICS   2000\n",
            "4          SCIENCE   2000\n",
            "5           SPORTS   2000\n",
            "6   STYLE & BEAUTY   2000\n",
            "7             TECH   2000\n",
            "8           TRAVEL   2000\n",
            "9         WELLNESS   2000\n",
            "10      WORLD NEWS   2000\n"
          ]
        }
      ]
    },
    {
      "cell_type": "code",
      "source": [
        "missing_values_count = df.isnull().sum()\n",
        "\n",
        "# Print the count of missing values per column\n",
        "print(\"Missing Values Count per Column:\")\n",
        "print(missing_values_count)\n",
        "\n"
      ],
      "metadata": {
        "colab": {
          "base_uri": "https://localhost:8080/"
        },
        "id": "4A8YrlBd-1Jr",
        "outputId": "5dc0c7e8-316d-40bc-eff5-372946af7227"
      },
      "execution_count": null,
      "outputs": [
        {
          "output_type": "stream",
          "name": "stdout",
          "text": [
            "Missing Values Count per Column:\n",
            "headline                1\n",
            "category                0\n",
            "short_description    1838\n",
            "dtype: int64\n"
          ]
        }
      ]
    },
    {
      "cell_type": "code",
      "source": [
        "# Replace missing 'headline' values with the corresponding 'short_description' values in the same row\n",
        "df.loc[df['headline'].isnull(), 'headline'] = df['short_description']\n",
        "\n",
        "# Fill missing values in 'short_description' with the updated 'headline' values\n",
        "df['short_description'] = df['short_description'].fillna(df['headline'])\n",
        "\n",
        "# Verify that there are no more missing values\n",
        "missing_values_after_handling = df.isnull().sum()\n",
        "\n",
        "# Print the count of missing values after handling\n",
        "print(\"Missing Values Count After Handling:\")\n",
        "print(missing_values_after_handling)\n"
      ],
      "metadata": {
        "colab": {
          "base_uri": "https://localhost:8080/"
        },
        "id": "9iEhwtiZ_8Fn",
        "outputId": "e5fd583c-c55f-4cd3-a26e-b2f51af0e6fc"
      },
      "execution_count": null,
      "outputs": [
        {
          "output_type": "stream",
          "name": "stdout",
          "text": [
            "Missing Values Count After Handling:\n",
            "headline             1\n",
            "category             0\n",
            "short_description    1\n",
            "dtype: int64\n"
          ]
        }
      ]
    },
    {
      "cell_type": "code",
      "source": [
        "# Drop the row where both 'headline' and 'short_description' are missing\n",
        "df = df.dropna(subset=['headline', 'short_description'])\n",
        "\n",
        "# Verify that there are no more missing values\n",
        "missing_values_after_handling = df.isnull().sum()\n",
        "\n",
        "# Print the updated count of missing values\n",
        "print(\"Missing Values Count After Handling:\")\n",
        "print(missing_values_after_handling)\n"
      ],
      "metadata": {
        "colab": {
          "base_uri": "https://localhost:8080/"
        },
        "id": "jvrKklWoO1Sr",
        "outputId": "d755a37c-895e-4da6-bb81-a693598a1443"
      },
      "execution_count": null,
      "outputs": [
        {
          "output_type": "stream",
          "name": "stdout",
          "text": [
            "Missing Values Count After Handling:\n",
            "headline             0\n",
            "category             0\n",
            "short_description    0\n",
            "dtype: int64\n"
          ]
        }
      ]
    },
    {
      "cell_type": "code",
      "source": [
        "import pandas as pd\n",
        "import re\n",
        "from transformers import BertTokenizer\n",
        "\n",
        "# Load the BERT tokenizer (e.g., for DistilBERT or BERT-base-uncased)\n",
        "tokenizer = BertTokenizer.from_pretrained(\"bert-base-uncased\")\n",
        "\n",
        "# Function to clean text while keeping digits and hyphens\n",
        "def clean_text(text):\n",
        "    if pd.isna(text):\n",
        "        return \"\"\n",
        "\n",
        "    # Remove HTML tags\n",
        "    text = re.sub(r'<.*?>', '', text)\n",
        "\n",
        "    # Remove punctuation except for hyphens (keep digits and hyphenated words)\n",
        "    text = re.sub(r'[^\\w\\s\\-]', '', text)\n",
        "\n",
        "    # Convert to lowercase\n",
        "    text = text.lower()\n",
        "\n",
        "    # Return the cleaned text without additional stopword removal\n",
        "    return text\n",
        "\n",
        "# Apply the text cleaning function\n",
        "df['cleaned_headline'] = df['headline'].apply(clean_text)\n",
        "df['cleaned_short_description'] = df['short_description'].apply(clean_text)\n",
        "\n",
        "# Combine cleaned headline and short description\n",
        "df['combined_text'] = df['cleaned_headline'] + \" \" + df['cleaned_short_description']\n",
        "\n",
        "# Step 1: Tokenize without truncation or padding to find the true length of each tokenized sequence\n",
        "df['input_ids'] = df['combined_text'].apply(lambda x: tokenizer.encode(x, truncation=False, padding=False))\n",
        "\n",
        "# Step 2: Find the maximum token length in the dataset\n",
        "max_length = df['input_ids'].apply(len).max()\n",
        "print(\"Maximum token length in the dataset:\", max_length)\n",
        "\n",
        "# Step 3: Update the tokenization step using the determined max_length\n",
        "df['input_ids'] = df['combined_text'].apply(lambda x: tokenizer.encode(x, truncation=True, padding='max_length', max_length=max_length))\n",
        "\n",
        "# Display a sample of the cleaned and tokenized data\n",
        "print(df[['headline', 'cleaned_headline', 'short_description', 'cleaned_short_description', 'combined_text', 'input_ids']].head())"
      ],
      "metadata": {
        "colab": {
          "base_uri": "https://localhost:8080/"
        },
        "id": "Sv9FmwxqAyK_",
        "outputId": "88fbd397-a6b1-4a98-8432-65687d2f1ffd",
        "collapsed": true
      },
      "execution_count": null,
      "outputs": [
        {
          "output_type": "stream",
          "name": "stdout",
          "text": [
            "Maximum token length in the dataset: 284\n",
            "                                            headline  \\\n",
            "0                  How to Manage Your Personal Brand   \n",
            "1  It Looks Like Uber's Winning Its War With New ...   \n",
            "2      The Progressive Promise of Today's Technology   \n",
            "3   Don't Let These 5 Confusing Words Mar Your Image   \n",
            "4        What You Don't Know About Overnight Success   \n",
            "\n",
            "                                    cleaned_headline  \\\n",
            "0                  how to manage your personal brand   \n",
            "1  it looks like ubers winning its war with new york   \n",
            "2       the progressive promise of todays technology   \n",
            "3    dont let these 5 confusing words mar your image   \n",
            "4         what you dont know about overnight success   \n",
            "\n",
            "                                   short_description  \\\n",
            "0  Make no mistake: If you have a Facebook accoun...   \n",
            "1                                  Grab the popcorn.   \n",
            "2  A digital policy for the new century, tailored...   \n",
            "3  Tom's an articulate physician, totally able to...   \n",
            "4  I've been fighting this thing for 32 years. \"O...   \n",
            "\n",
            "                           cleaned_short_description  \\\n",
            "0  make no mistake if you have a facebook account...   \n",
            "1                                   grab the popcorn   \n",
            "2  a digital policy for the new century tailored ...   \n",
            "3  toms an articulate physician totally able to s...   \n",
            "4  ive been fighting this thing for 32 years over...   \n",
            "\n",
            "                                       combined_text  \\\n",
            "0  how to manage your personal brand make no mist...   \n",
            "1  it looks like ubers winning its war with new y...   \n",
            "2  the progressive promise of todays technology a...   \n",
            "3  dont let these 5 confusing words mar your imag...   \n",
            "4  what you dont know about overnight success ive...   \n",
            "\n",
            "                                           input_ids  \n",
            "0  [101, 2129, 2000, 6133, 2115, 3167, 4435, 2191...  \n",
            "1  [101, 2009, 3504, 2066, 19169, 2015, 3045, 204...  \n",
            "2  [101, 1996, 6555, 4872, 1997, 2651, 2015, 2974...  \n",
            "3  [101, 2123, 2102, 2292, 2122, 1019, 16801, 261...  \n",
            "4  [101, 2054, 2017, 2123, 2102, 2113, 2055, 1158...  \n"
          ]
        }
      ]
    }
  ]
}